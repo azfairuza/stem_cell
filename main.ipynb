{
 "cells": [
  {
   "cell_type": "markdown",
   "metadata": {},
   "source": [
    "# Stem Cell Simulation\n",
    "### Description\n",
    "Stem cell simulation made by Achmad Zacky Fairuza\n",
    "\n",
    "### Import Modules"
   ]
  },
  {
   "cell_type": "code",
   "execution_count": 43,
   "metadata": {},
   "outputs": [],
   "source": [
    "import stemcell as sc\n",
    "import numpy as np\n",
    "import importlib "
   ]
  },
  {
   "cell_type": "markdown",
   "metadata": {},
   "source": [
    "### Reloading Stemcell Module\n",
    "\n",
    "Use this script to reload module if there is an update on stemcell module"
   ]
  },
  {
   "cell_type": "code",
   "execution_count": 56,
   "metadata": {},
   "outputs": [
    {
     "data": {
      "text/plain": [
       "<module 'stemcell' from '/mnt/c/mydata/code/Stem_Cell2/stemcell.py'>"
      ]
     },
     "execution_count": 56,
     "metadata": {},
     "output_type": "execute_result"
    }
   ],
   "source": [
    "importlib.reload(sc)"
   ]
  },
  {
   "cell_type": "markdown",
   "metadata": {},
   "source": [
    "### Read PATCON File\n",
    "PATCON.txt File contains the configuration settings for the nanopattern"
   ]
  },
  {
   "cell_type": "code",
   "execution_count": 57,
   "metadata": {},
   "outputs": [
    {
     "name": "stdout",
     "output_type": "stream",
     "text": [
      "PATCON\n",
      "dotnumber\n",
      "unitsize\n",
      "subsize\n",
      "dotsize\n",
      "LIGAND\n",
      "0.5 0.5\n",
      "['0.5 0.5']\n"
     ]
    }
   ],
   "source": [
    "# open file\n",
    "patcon = sc.readFile('PATCON')\n",
    "\n",
    "# get value\n",
    "dot_number = sc.get_value(patcon, 'dotnumber')\n",
    "grid_size = sc.get_value(patcon, 'unitsize')\n",
    "substrate_size = sc.get_value(patcon, 'subsize')\n",
    "dot_size = sc.get_value(patcon, 'dotsize')\n",
    "ligand_position = sc.get_value(patcon,'LIGAND') \n",
    "\n",
    "print(ligand_position)"
   ]
  },
  {
   "cell_type": "markdown",
   "metadata": {},
   "source": [
    "### Build Nanopattern\n",
    "Build nanopattern from the patcon file"
   ]
  },
  {
   "cell_type": "code",
   "execution_count": null,
   "metadata": {},
   "outputs": [],
   "source": [
    "substrate = sc.Nanopattern()"
   ]
  },
  {
   "cell_type": "code",
   "execution_count": 30,
   "metadata": {},
   "outputs": [
    {
     "name": "stdout",
     "output_type": "stream",
     "text": [
      "#LIGAND\n",
      "0.5 0.5\n"
     ]
    }
   ],
   "source": [
    "start_index = patcon.index('#LIGAND')\n",
    "end_index = patcon.index('#END')\n",
    "for i in range(start_index,end_index):\n",
    "    print(patcon[i])\n"
   ]
  }
 ],
 "metadata": {
  "interpreter": {
   "hash": "916dbcbb3f70747c44a77c7bcd40155683ae19c65e1c03b4aa3499c5328201f1"
  },
  "kernelspec": {
   "display_name": "Python 3.8.10 64-bit",
   "language": "python",
   "name": "python3"
  },
  "language_info": {
   "codemirror_mode": {
    "name": "ipython",
    "version": 3
   },
   "file_extension": ".py",
   "mimetype": "text/x-python",
   "name": "python",
   "nbconvert_exporter": "python",
   "pygments_lexer": "ipython3",
   "version": "3.8.10"
  },
  "orig_nbformat": 4
 },
 "nbformat": 4,
 "nbformat_minor": 2
}
